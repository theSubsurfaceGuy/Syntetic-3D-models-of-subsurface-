{
  "nbformat": 4,
  "nbformat_minor": 0,
  "metadata": {
    "colab": {
      "name": "Flat_RM.ipynb",
      "provenance": [],
      "authorship_tag": "ABX9TyMbzaM4cIbqgjv/44dwHFSM"
    },
    "kernelspec": {
      "name": "python3",
      "display_name": "Python 3"
    }
  },
  "cells": [
    {
      "cell_type": "code",
      "metadata": {
        "id": "2_WjoogL7CqX"
      },
      "source": [
        "import random"
      ],
      "execution_count": null,
      "outputs": []
    },
    {
      "cell_type": "code",
      "metadata": {
        "id": "84GOUuOo7XYU"
      },
      "source": [
        "import numpy as np\n",
        "df=np.zeros(15)"
      ],
      "execution_count": null,
      "outputs": []
    },
    {
      "cell_type": "code",
      "metadata": {
        "id": "ucU2gcQ_20b4"
      },
      "source": [
        "df=np.zeros(15)\n",
        "for i in range(15):\n",
        "  x = random.uniform(-3, 3)\n",
        "  df[i]=x"
      ],
      "execution_count": null,
      "outputs": []
    },
    {
      "cell_type": "code",
      "metadata": {
        "id": "K3pevmqn7ndX"
      },
      "source": [
        "import pandas as pd"
      ],
      "execution_count": null,
      "outputs": []
    },
    {
      "cell_type": "code",
      "metadata": {
        "id": "ttEh-Kt_hlwN"
      },
      "source": [
        "df1 = pd.DataFrame(df)\n",
        "df1.to_csv('3045reflectivity.csv',index=False)"
      ],
      "execution_count": null,
      "outputs": []
    },
    {
      "cell_type": "code",
      "metadata": {
        "id": "5L0Yw_BXg0hC",
        "colab": {
          "base_uri": "https://localhost:8080/",
          "height": 51
        },
        "outputId": "66e768bf-c702-44f9-eed3-c6bcbd590d12"
      },
      "source": [
        "import numpy as np\n",
        "_sum = 3000\n",
        "n = 20\n",
        "rnd_array = np.random.multinomial(_sum, np.ones(n)/n, size=1)[0]\n",
        "print (rnd_array)"
      ],
      "execution_count": null,
      "outputs": [
        {
          "output_type": "stream",
          "text": [
            "[164 166 148 149 152 153 159 152 134 127 136 151 163 136 150 158 139 154\n",
            " 143 166]\n"
          ],
          "name": "stdout"
        }
      ]
    },
    {
      "cell_type": "code",
      "metadata": {
        "id": "Z13GRyrvhfPW"
      },
      "source": [
        "rnd_array=pd.DataFrame(rnd_array)"
      ],
      "execution_count": null,
      "outputs": []
    },
    {
      "cell_type": "code",
      "metadata": {
        "id": "nRxg1MaLhYvn"
      },
      "source": [
        "rnd_array.to_csv('rnd_array.csv',index=False)"
      ],
      "execution_count": null,
      "outputs": []
    }
  ]
}